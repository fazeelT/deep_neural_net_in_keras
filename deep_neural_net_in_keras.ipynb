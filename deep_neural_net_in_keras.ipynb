{
 "cells": [
  {
   "cell_type": "markdown",
   "metadata": {},
   "source": [
    "# Deep Net in KERAS"
   ]
  },
  {
   "cell_type": "markdown",
   "metadata": {},
   "source": [
    "Build a deep neural network to classify MNIST data"
   ]
  },
  {
   "cell_type": "markdown",
   "metadata": {},
   "source": [
    "#### set seed reprodicibility"
   ]
  },
  {
   "cell_type": "code",
   "execution_count": 1,
   "metadata": {},
   "outputs": [],
   "source": [
    "import numpy as np\n",
    "np.random.seed(42)"
   ]
  },
  {
   "cell_type": "markdown",
   "metadata": {},
   "source": [
    "#### Load dependencies"
   ]
  },
  {
   "cell_type": "code",
   "execution_count": 2,
   "metadata": {},
   "outputs": [
    {
     "name": "stderr",
     "output_type": "stream",
     "text": [
      "Using TensorFlow backend.\n"
     ]
    }
   ],
   "source": [
    "import keras\n",
    "from keras.datasets import mnist\n",
    "from keras.models import Sequential\n",
    "from keras.layers import Dense\n",
    "from keras.layers import Dropout\n",
    "from keras import optimizers\n",
    "from keras.layers.normalization import BatchNormalization\n",
    "from keras import regularizers\n",
    "from keras.optimizers import SGD"
   ]
  },
  {
   "cell_type": "markdown",
   "metadata": {},
   "source": [
    "#### Load Data"
   ]
  },
  {
   "cell_type": "code",
   "execution_count": 3,
   "metadata": {},
   "outputs": [],
   "source": [
    "(X_train, y_train), (X_test, y_test) = mnist.load_data()"
   ]
  },
  {
   "cell_type": "markdown",
   "metadata": {},
   "source": [
    "#### Preprocess Data"
   ]
  },
  {
   "cell_type": "code",
   "execution_count": 4,
   "metadata": {},
   "outputs": [],
   "source": [
    "X_train = X_train.reshape(60000, 784).astype('float32')\n",
    "X_test = X_test.reshape(10000, 784).astype('float32')"
   ]
  },
  {
   "cell_type": "code",
   "execution_count": 5,
   "metadata": {},
   "outputs": [],
   "source": [
    "X_train /= 255\n",
    "X_test /= 255"
   ]
  },
  {
   "cell_type": "code",
   "execution_count": 6,
   "metadata": {},
   "outputs": [],
   "source": [
    "n_classes = 10\n",
    "y_train = keras.utils.to_categorical(y_train, n_classes)\n",
    "y_test = keras.utils.to_categorical(y_test, n_classes)"
   ]
  },
  {
   "cell_type": "markdown",
   "metadata": {},
   "source": [
    "#### Design neural network architecture "
   ]
  },
  {
   "cell_type": "code",
   "execution_count": 7,
   "metadata": {},
   "outputs": [],
   "source": [
    "model = Sequential()\n",
    "model.add(Dense(64, activation='relu', input_shape=(784,), kernel_initializer='glorot_normal')) #default is 'glorot_normal'\n",
    "model.add(BatchNormalization())\n",
    "model.add(Dropout(0.5))\n",
    "model.add(Dense(64, activation='relu'))\n",
    "model.add(BatchNormalization())\n",
    "model.add(Dropout(0.5))\n",
    "model.add(Dense(64, activation='relu'))\n",
    "model.add(BatchNormalization())\n",
    "model.add(Dropout(0.5))\n",
    "model.add(Dense(10, activation='softmax'))"
   ]
  },
  {
   "cell_type": "code",
   "execution_count": 8,
   "metadata": {},
   "outputs": [
    {
     "name": "stdout",
     "output_type": "stream",
     "text": [
      "_________________________________________________________________\n",
      "Layer (type)                 Output Shape              Param #   \n",
      "=================================================================\n",
      "dense_1 (Dense)              (None, 64)                50240     \n",
      "_________________________________________________________________\n",
      "batch_normalization_1 (Batch (None, 64)                256       \n",
      "_________________________________________________________________\n",
      "dropout_1 (Dropout)          (None, 64)                0         \n",
      "_________________________________________________________________\n",
      "dense_2 (Dense)              (None, 64)                4160      \n",
      "_________________________________________________________________\n",
      "batch_normalization_2 (Batch (None, 64)                256       \n",
      "_________________________________________________________________\n",
      "dropout_2 (Dropout)          (None, 64)                0         \n",
      "_________________________________________________________________\n",
      "dense_3 (Dense)              (None, 64)                4160      \n",
      "_________________________________________________________________\n",
      "batch_normalization_3 (Batch (None, 64)                256       \n",
      "_________________________________________________________________\n",
      "dropout_3 (Dropout)          (None, 64)                0         \n",
      "_________________________________________________________________\n",
      "dense_4 (Dense)              (None, 10)                650       \n",
      "=================================================================\n",
      "Total params: 59,978\n",
      "Trainable params: 59,594\n",
      "Non-trainable params: 384\n",
      "_________________________________________________________________\n"
     ]
    }
   ],
   "source": [
    "model.summary()"
   ]
  },
  {
   "cell_type": "markdown",
   "metadata": {},
   "source": [
    "#### Configure Model "
   ]
  },
  {
   "cell_type": "code",
   "execution_count": 9,
   "metadata": {},
   "outputs": [],
   "source": [
    "model.compile(loss='categorical_crossentropy', optimizer='adam', metrics=['accuracy'])"
   ]
  },
  {
   "cell_type": "markdown",
   "metadata": {},
   "source": [
    "#### Train"
   ]
  },
  {
   "cell_type": "code",
   "execution_count": 10,
   "metadata": {},
   "outputs": [
    {
     "name": "stdout",
     "output_type": "stream",
     "text": [
      "Train on 60000 samples, validate on 10000 samples\n",
      "Epoch 1/100\n",
      "60000/60000 [==============================] - 3s - loss: 1.1702 - acc: 0.6241 - val_loss: 0.3029 - val_acc: 0.9142\n",
      "Epoch 2/100\n",
      "60000/60000 [==============================] - 3s - loss: 0.5541 - acc: 0.8362 - val_loss: 0.2371 - val_acc: 0.9297\n",
      "Epoch 3/100\n",
      "60000/60000 [==============================] - 3s - loss: 0.4527 - acc: 0.8713 - val_loss: 0.2227 - val_acc: 0.9362\n",
      "Epoch 4/100\n",
      "60000/60000 [==============================] - 3s - loss: 0.4068 - acc: 0.8874 - val_loss: 0.2028 - val_acc: 0.9424\n",
      "Epoch 5/100\n",
      "60000/60000 [==============================] - 3s - loss: 0.3759 - acc: 0.8957 - val_loss: 0.1909 - val_acc: 0.9442\n",
      "Epoch 6/100\n",
      "60000/60000 [==============================] - 3s - loss: 0.3515 - acc: 0.9028 - val_loss: 0.1675 - val_acc: 0.9517\n",
      "Epoch 7/100\n",
      "60000/60000 [==============================] - 3s - loss: 0.3298 - acc: 0.9085 - val_loss: 0.1626 - val_acc: 0.9530\n",
      "Epoch 8/100\n",
      "60000/60000 [==============================] - 3s - loss: 0.3219 - acc: 0.9119 - val_loss: 0.1592 - val_acc: 0.9540\n",
      "Epoch 9/100\n",
      "60000/60000 [==============================] - 3s - loss: 0.3038 - acc: 0.9162 - val_loss: 0.1521 - val_acc: 0.9569\n",
      "Epoch 10/100\n",
      "60000/60000 [==============================] - 3s - loss: 0.2993 - acc: 0.9161 - val_loss: 0.1540 - val_acc: 0.9581\n",
      "Epoch 11/100\n",
      "60000/60000 [==============================] - 3s - loss: 0.2901 - acc: 0.9203 - val_loss: 0.1476 - val_acc: 0.9587\n",
      "Epoch 12/100\n",
      "60000/60000 [==============================] - 3s - loss: 0.2832 - acc: 0.9222 - val_loss: 0.1377 - val_acc: 0.9598\n",
      "Epoch 13/100\n",
      "60000/60000 [==============================] - 3s - loss: 0.2702 - acc: 0.9253 - val_loss: 0.1380 - val_acc: 0.9604\n",
      "Epoch 14/100\n",
      "60000/60000 [==============================] - 3s - loss: 0.2681 - acc: 0.9259 - val_loss: 0.1387 - val_acc: 0.9625\n",
      "Epoch 15/100\n",
      "60000/60000 [==============================] - 3s - loss: 0.2618 - acc: 0.9261 - val_loss: 0.1361 - val_acc: 0.9619\n",
      "Epoch 16/100\n",
      "60000/60000 [==============================] - 3s - loss: 0.2610 - acc: 0.9271 - val_loss: 0.1333 - val_acc: 0.9632\n",
      "Epoch 17/100\n",
      "60000/60000 [==============================] - 3s - loss: 0.2542 - acc: 0.9294 - val_loss: 0.1352 - val_acc: 0.9621\n",
      "Epoch 18/100\n",
      "60000/60000 [==============================] - 3s - loss: 0.2569 - acc: 0.9291 - val_loss: 0.1300 - val_acc: 0.9636\n",
      "Epoch 19/100\n",
      "60000/60000 [==============================] - 3s - loss: 0.2473 - acc: 0.9316 - val_loss: 0.1326 - val_acc: 0.9640\n",
      "Epoch 20/100\n",
      "60000/60000 [==============================] - 3s - loss: 0.2494 - acc: 0.9316 - val_loss: 0.1331 - val_acc: 0.9642\n",
      "Epoch 21/100\n",
      "60000/60000 [==============================] - 3s - loss: 0.2464 - acc: 0.9323 - val_loss: 0.1276 - val_acc: 0.9652\n",
      "Epoch 22/100\n",
      "60000/60000 [==============================] - 4s - loss: 0.2388 - acc: 0.9337 - val_loss: 0.1325 - val_acc: 0.9633\n",
      "Epoch 23/100\n",
      "60000/60000 [==============================] - 4s - loss: 0.2432 - acc: 0.9328 - val_loss: 0.1343 - val_acc: 0.9641\n",
      "Epoch 24/100\n",
      "60000/60000 [==============================] - 4s - loss: 0.2382 - acc: 0.9336 - val_loss: 0.1284 - val_acc: 0.9659\n",
      "Epoch 25/100\n",
      "60000/60000 [==============================] - 3s - loss: 0.2347 - acc: 0.9354 - val_loss: 0.1347 - val_acc: 0.9650\n",
      "Epoch 26/100\n",
      "60000/60000 [==============================] - 3s - loss: 0.2336 - acc: 0.9349 - val_loss: 0.1254 - val_acc: 0.9665\n",
      "Epoch 27/100\n",
      "60000/60000 [==============================] - 3s - loss: 0.2364 - acc: 0.9342 - val_loss: 0.1341 - val_acc: 0.9645\n",
      "Epoch 28/100\n",
      "60000/60000 [==============================] - 3s - loss: 0.2303 - acc: 0.9371 - val_loss: 0.1283 - val_acc: 0.9662\n",
      "Epoch 29/100\n",
      "60000/60000 [==============================] - 3s - loss: 0.2304 - acc: 0.9360 - val_loss: 0.1283 - val_acc: 0.9634\n",
      "Epoch 30/100\n",
      "60000/60000 [==============================] - 4s - loss: 0.2275 - acc: 0.9376 - val_loss: 0.1274 - val_acc: 0.9671\n",
      "Epoch 31/100\n",
      "60000/60000 [==============================] - 3s - loss: 0.2248 - acc: 0.9377 - val_loss: 0.1252 - val_acc: 0.9665\n",
      "Epoch 32/100\n",
      "60000/60000 [==============================] - 3s - loss: 0.2234 - acc: 0.9383 - val_loss: 0.1213 - val_acc: 0.9672\n",
      "Epoch 33/100\n",
      "60000/60000 [==============================] - 3s - loss: 0.2236 - acc: 0.9379 - val_loss: 0.1285 - val_acc: 0.9657\n",
      "Epoch 34/100\n",
      "60000/60000 [==============================] - 3s - loss: 0.2195 - acc: 0.9389 - val_loss: 0.1249 - val_acc: 0.9675\n",
      "Epoch 35/100\n",
      "60000/60000 [==============================] - 3s - loss: 0.2226 - acc: 0.9378 - val_loss: 0.1264 - val_acc: 0.9663\n",
      "Epoch 36/100\n",
      "60000/60000 [==============================] - 3s - loss: 0.2146 - acc: 0.9397 - val_loss: 0.1204 - val_acc: 0.9674\n",
      "Epoch 37/100\n",
      "60000/60000 [==============================] - 3s - loss: 0.2158 - acc: 0.9397 - val_loss: 0.1249 - val_acc: 0.9669\n",
      "Epoch 38/100\n",
      "60000/60000 [==============================] - 4s - loss: 0.2159 - acc: 0.9406 - val_loss: 0.1230 - val_acc: 0.9677\n",
      "Epoch 39/100\n",
      "60000/60000 [==============================] - 3s - loss: 0.2146 - acc: 0.9408 - val_loss: 0.1245 - val_acc: 0.9667\n",
      "Epoch 40/100\n",
      "60000/60000 [==============================] - 3s - loss: 0.2130 - acc: 0.9414 - val_loss: 0.1253 - val_acc: 0.9671\n",
      "Epoch 41/100\n",
      "60000/60000 [==============================] - 3s - loss: 0.2106 - acc: 0.9414 - val_loss: 0.1213 - val_acc: 0.9678\n",
      "Epoch 42/100\n",
      "60000/60000 [==============================] - 3s - loss: 0.2073 - acc: 0.9424 - val_loss: 0.1212 - val_acc: 0.9673\n",
      "Epoch 43/100\n",
      "60000/60000 [==============================] - 3s - loss: 0.2098 - acc: 0.9412 - val_loss: 0.1260 - val_acc: 0.9658\n",
      "Epoch 44/100\n",
      "60000/60000 [==============================] - 4s - loss: 0.2107 - acc: 0.9413 - val_loss: 0.1225 - val_acc: 0.9670\n",
      "Epoch 45/100\n",
      "60000/60000 [==============================] - 3s - loss: 0.2099 - acc: 0.9415 - val_loss: 0.1196 - val_acc: 0.9681\n",
      "Epoch 46/100\n",
      "60000/60000 [==============================] - 3s - loss: 0.2059 - acc: 0.9417 - val_loss: 0.1182 - val_acc: 0.9678\n",
      "Epoch 47/100\n",
      "60000/60000 [==============================] - 3s - loss: 0.2070 - acc: 0.9428 - val_loss: 0.1179 - val_acc: 0.9684\n",
      "Epoch 48/100\n",
      "60000/60000 [==============================] - 3s - loss: 0.2056 - acc: 0.9435 - val_loss: 0.1195 - val_acc: 0.9681\n",
      "Epoch 49/100\n",
      "60000/60000 [==============================] - 3s - loss: 0.2043 - acc: 0.9439 - val_loss: 0.1179 - val_acc: 0.9700\n",
      "Epoch 50/100\n",
      "60000/60000 [==============================] - 3s - loss: 0.2071 - acc: 0.9424 - val_loss: 0.1250 - val_acc: 0.9673\n",
      "Epoch 51/100\n",
      "60000/60000 [==============================] - 3s - loss: 0.1975 - acc: 0.9455 - val_loss: 0.1200 - val_acc: 0.9692\n",
      "Epoch 52/100\n",
      "60000/60000 [==============================] - 3s - loss: 0.1998 - acc: 0.9442 - val_loss: 0.1199 - val_acc: 0.9682\n",
      "Epoch 53/100\n",
      "60000/60000 [==============================] - 3s - loss: 0.2026 - acc: 0.9440 - val_loss: 0.1160 - val_acc: 0.9693\n",
      "Epoch 54/100\n",
      "60000/60000 [==============================] - 3s - loss: 0.1966 - acc: 0.9451 - val_loss: 0.1176 - val_acc: 0.9686\n",
      "Epoch 55/100\n",
      "60000/60000 [==============================] - 3s - loss: 0.1990 - acc: 0.9437 - val_loss: 0.1175 - val_acc: 0.9689\n",
      "Epoch 56/100\n",
      "60000/60000 [==============================] - 4s - loss: 0.2028 - acc: 0.9447 - val_loss: 0.1227 - val_acc: 0.9678\n",
      "Epoch 57/100\n",
      "60000/60000 [==============================] - 4s - loss: 0.1967 - acc: 0.9451 - val_loss: 0.1208 - val_acc: 0.9686\n",
      "Epoch 58/100\n",
      "60000/60000 [==============================] - 3s - loss: 0.1974 - acc: 0.9452 - val_loss: 0.1168 - val_acc: 0.9675\n",
      "Epoch 59/100\n",
      "60000/60000 [==============================] - 3s - loss: 0.2006 - acc: 0.9438 - val_loss: 0.1161 - val_acc: 0.9673\n",
      "Epoch 60/100\n",
      "60000/60000 [==============================] - 3s - loss: 0.1969 - acc: 0.9448 - val_loss: 0.1205 - val_acc: 0.9683\n",
      "Epoch 61/100\n",
      "60000/60000 [==============================] - 4s - loss: 0.1938 - acc: 0.9454 - val_loss: 0.1187 - val_acc: 0.9679\n",
      "Epoch 62/100\n",
      "60000/60000 [==============================] - 4s - loss: 0.1936 - acc: 0.9453 - val_loss: 0.1197 - val_acc: 0.9685\n",
      "Epoch 63/100\n",
      "60000/60000 [==============================] - 4s - loss: 0.1984 - acc: 0.9447 - val_loss: 0.1201 - val_acc: 0.9675\n",
      "Epoch 64/100\n"
     ]
    },
    {
     "name": "stdout",
     "output_type": "stream",
     "text": [
      "60000/60000 [==============================] - 3s - loss: 0.1952 - acc: 0.9451 - val_loss: 0.1151 - val_acc: 0.9687\n",
      "Epoch 65/100\n",
      "60000/60000 [==============================] - 3s - loss: 0.1941 - acc: 0.9446 - val_loss: 0.1136 - val_acc: 0.9696\n",
      "Epoch 66/100\n",
      "60000/60000 [==============================] - 3s - loss: 0.1945 - acc: 0.9465 - val_loss: 0.1172 - val_acc: 0.9695\n",
      "Epoch 67/100\n",
      "60000/60000 [==============================] - 3s - loss: 0.1925 - acc: 0.9456 - val_loss: 0.1166 - val_acc: 0.9690\n",
      "Epoch 68/100\n",
      "60000/60000 [==============================] - 3s - loss: 0.1928 - acc: 0.9460 - val_loss: 0.1170 - val_acc: 0.9676\n",
      "Epoch 69/100\n",
      "60000/60000 [==============================] - 3s - loss: 0.1960 - acc: 0.9454 - val_loss: 0.1195 - val_acc: 0.9680\n",
      "Epoch 70/100\n",
      "60000/60000 [==============================] - 3s - loss: 0.1919 - acc: 0.9455 - val_loss: 0.1204 - val_acc: 0.9673\n",
      "Epoch 71/100\n",
      "60000/60000 [==============================] - 3s - loss: 0.1907 - acc: 0.9465 - val_loss: 0.1175 - val_acc: 0.9684\n",
      "Epoch 72/100\n",
      "60000/60000 [==============================] - 3s - loss: 0.1893 - acc: 0.9465 - val_loss: 0.1160 - val_acc: 0.9681\n",
      "Epoch 73/100\n",
      "60000/60000 [==============================] - 3s - loss: 0.1914 - acc: 0.9472 - val_loss: 0.1147 - val_acc: 0.9700\n",
      "Epoch 74/100\n",
      "60000/60000 [==============================] - 3s - loss: 0.1930 - acc: 0.9462 - val_loss: 0.1163 - val_acc: 0.9688\n",
      "Epoch 75/100\n",
      "60000/60000 [==============================] - 3s - loss: 0.1912 - acc: 0.9469 - val_loss: 0.1165 - val_acc: 0.9687\n",
      "Epoch 76/100\n",
      "60000/60000 [==============================] - 3s - loss: 0.1841 - acc: 0.9480 - val_loss: 0.1140 - val_acc: 0.9698\n",
      "Epoch 77/100\n",
      "60000/60000 [==============================] - 3s - loss: 0.1856 - acc: 0.9482 - val_loss: 0.1175 - val_acc: 0.9700\n",
      "Epoch 78/100\n",
      "60000/60000 [==============================] - 3s - loss: 0.1868 - acc: 0.9484 - val_loss: 0.1164 - val_acc: 0.9693\n",
      "Epoch 79/100\n",
      "60000/60000 [==============================] - 3s - loss: 0.1862 - acc: 0.9484 - val_loss: 0.1193 - val_acc: 0.9692\n",
      "Epoch 80/100\n",
      "60000/60000 [==============================] - 3s - loss: 0.1850 - acc: 0.9475 - val_loss: 0.1166 - val_acc: 0.9689\n",
      "Epoch 81/100\n",
      "60000/60000 [==============================] - 3s - loss: 0.1870 - acc: 0.9480 - val_loss: 0.1196 - val_acc: 0.9682\n",
      "Epoch 82/100\n",
      "60000/60000 [==============================] - 3s - loss: 0.1840 - acc: 0.9478 - val_loss: 0.1172 - val_acc: 0.9686\n",
      "Epoch 83/100\n",
      "60000/60000 [==============================] - 3s - loss: 0.1830 - acc: 0.9481 - val_loss: 0.1150 - val_acc: 0.9687\n",
      "Epoch 84/100\n",
      "60000/60000 [==============================] - 3s - loss: 0.1838 - acc: 0.9481 - val_loss: 0.1120 - val_acc: 0.9694\n",
      "Epoch 85/100\n",
      "60000/60000 [==============================] - 3s - loss: 0.1856 - acc: 0.9475 - val_loss: 0.1145 - val_acc: 0.9698\n",
      "Epoch 86/100\n",
      "60000/60000 [==============================] - 3s - loss: 0.1837 - acc: 0.9482 - val_loss: 0.1186 - val_acc: 0.9690\n",
      "Epoch 87/100\n",
      "60000/60000 [==============================] - 3s - loss: 0.1825 - acc: 0.9490 - val_loss: 0.1158 - val_acc: 0.9686\n",
      "Epoch 88/100\n",
      "60000/60000 [==============================] - 3s - loss: 0.1846 - acc: 0.9496 - val_loss: 0.1189 - val_acc: 0.9689\n",
      "Epoch 89/100\n",
      "60000/60000 [==============================] - 3s - loss: 0.1807 - acc: 0.9499 - val_loss: 0.1140 - val_acc: 0.9698\n",
      "Epoch 90/100\n",
      "60000/60000 [==============================] - 3s - loss: 0.1793 - acc: 0.9494 - val_loss: 0.1211 - val_acc: 0.9684\n",
      "Epoch 91/100\n",
      "60000/60000 [==============================] - 3s - loss: 0.1795 - acc: 0.9489 - val_loss: 0.1179 - val_acc: 0.9693\n",
      "Epoch 92/100\n",
      "60000/60000 [==============================] - 3s - loss: 0.1789 - acc: 0.9499 - val_loss: 0.1142 - val_acc: 0.9698\n",
      "Epoch 93/100\n",
      "60000/60000 [==============================] - 3s - loss: 0.1819 - acc: 0.9485 - val_loss: 0.1186 - val_acc: 0.9697\n",
      "Epoch 94/100\n",
      "60000/60000 [==============================] - 3s - loss: 0.1831 - acc: 0.9480 - val_loss: 0.1150 - val_acc: 0.9698\n",
      "Epoch 95/100\n",
      "60000/60000 [==============================] - 3s - loss: 0.1849 - acc: 0.9479 - val_loss: 0.1144 - val_acc: 0.9686\n",
      "Epoch 96/100\n",
      "60000/60000 [==============================] - 3s - loss: 0.1808 - acc: 0.9488 - val_loss: 0.1187 - val_acc: 0.9683\n",
      "Epoch 97/100\n",
      "60000/60000 [==============================] - 3s - loss: 0.1824 - acc: 0.9487 - val_loss: 0.1161 - val_acc: 0.9696\n",
      "Epoch 98/100\n",
      "60000/60000 [==============================] - 3s - loss: 0.1807 - acc: 0.9496 - val_loss: 0.1163 - val_acc: 0.9698\n",
      "Epoch 99/100\n",
      "60000/60000 [==============================] - 3s - loss: 0.1794 - acc: 0.9489 - val_loss: 0.1163 - val_acc: 0.9689\n",
      "Epoch 100/100\n",
      "60000/60000 [==============================] - 3s - loss: 0.1783 - acc: 0.9493 - val_loss: 0.1162 - val_acc: 0.9696\n"
     ]
    },
    {
     "data": {
      "text/plain": [
       "<keras.callbacks.History at 0x7f8cf7606fd0>"
      ]
     },
     "execution_count": 10,
     "metadata": {},
     "output_type": "execute_result"
    }
   ],
   "source": [
    "model.fit(X_train, y_train, batch_size=128, epochs=100, validation_data=(X_test, y_test))"
   ]
  },
  {
   "cell_type": "code",
   "execution_count": 11,
   "metadata": {},
   "outputs": [
    {
     "name": "stdout",
     "output_type": "stream",
     "text": [
      " 9888/10000 [============================>.] - ETA: 0s"
     ]
    },
    {
     "data": {
      "text/plain": [
       "[0.11621350204152986, 0.96960000000000002]"
      ]
     },
     "execution_count": 11,
     "metadata": {},
     "output_type": "execute_result"
    }
   ],
   "source": [
    "model.evaluate(X_test, y_test)"
   ]
  }
 ],
 "metadata": {
  "kernelspec": {
   "display_name": "Python 3",
   "language": "python",
   "name": "python3"
  },
  "language_info": {
   "codemirror_mode": {
    "name": "ipython",
    "version": 3
   },
   "file_extension": ".py",
   "mimetype": "text/x-python",
   "name": "python",
   "nbconvert_exporter": "python",
   "pygments_lexer": "ipython3",
   "version": "3.6.6"
  }
 },
 "nbformat": 4,
 "nbformat_minor": 2
}
